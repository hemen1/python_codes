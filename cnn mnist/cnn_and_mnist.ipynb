{
  "nbformat": 4,
  "nbformat_minor": 0,
  "metadata": {
    "colab": {
      "name": "cnn and mnist final.ipynb",
      "provenance": [],
      "collapsed_sections": []
    },
    "kernelspec": {
      "name": "python3",
      "display_name": "Python 3"
    },
    "accelerator": "GPU"
  },
  "cells": [
    {
      "cell_type": "markdown",
      "metadata": {
        "id": "VDk73e0qPpz9",
        "colab_type": "text"
      },
      "source": [
        "## load and Preprocessing data"
      ]
    },
    {
      "cell_type": "code",
      "metadata": {
        "id": "OcVdQ4v_F03V",
        "colab_type": "code",
        "colab": {
          "base_uri": "https://localhost:8080/",
          "height": 83
        },
        "outputId": "724433da-f9dc-4c37-8a5c-3ffe11adf2a4"
      },
      "source": [
        "from keras.datasets import mnist\n",
        "from keras.utils import to_categorical\n",
        "from sklearn import metrics\n",
        "import numpy as np\n",
        "import matplotlib.pyplot as plt\n",
        "\n",
        "\n",
        "# load mnist from keras lib\n",
        "(x_train, y_train), (x_test, y_test) = mnist.load_data()\n",
        "\n",
        "x_train = np.array(x_train).reshape(len(x_train),28,28,1)/255\n",
        "x_test = np.array(x_test).reshape(len(x_test),28,28,1)/255\n",
        "\n",
        "y_train = to_categorical(np.array(y_train))\n",
        "y_test = to_categorical(np.array(y_test))\n"
      ],
      "execution_count": 1,
      "outputs": [
        {
          "output_type": "stream",
          "text": [
            "Using TensorFlow backend.\n"
          ],
          "name": "stderr"
        },
        {
          "output_type": "display_data",
          "data": {
            "text/html": [
              "<p style=\"color: red;\">\n",
              "The default version of TensorFlow in Colab will soon switch to TensorFlow 2.x.<br>\n",
              "We recommend you <a href=\"https://www.tensorflow.org/guide/migrate\" target=\"_blank\">upgrade</a> now \n",
              "or ensure your notebook will continue to use TensorFlow 1.x via the <code>%tensorflow_version 1.x</code> magic:\n",
              "<a href=\"https://colab.research.google.com/notebooks/tensorflow_version.ipynb\" target=\"_blank\">more info</a>.</p>\n"
            ],
            "text/plain": [
              "<IPython.core.display.HTML object>"
            ]
          },
          "metadata": {
            "tags": []
          }
        }
      ]
    },
    {
      "cell_type": "markdown",
      "metadata": {
        "id": "9J8KKfJhP41V",
        "colab_type": "text"
      },
      "source": [
        "## create model"
      ]
    },
    {
      "cell_type": "code",
      "metadata": {
        "id": "louR6nbiCXc4",
        "colab_type": "code",
        "outputId": "0f8cadeb-3c33-4b4c-d174-3081bc179366",
        "colab": {
          "base_uri": "https://localhost:8080/",
          "height": 808
        }
      },
      "source": [
        "from keras import models\n",
        "from keras import layers\n",
        "from keras import optimizers\n",
        "\n",
        "# create sequntial model\n",
        "model = models.Sequential()\n",
        "\n",
        "# add conv2D net to model with filter=32  and kernel_size=3*3 and input shape =28*28 and padding =\"same\"\n",
        "model.add(layers.Conv2D(32,(3,3), activation='relu',input_shape=(x_train.shape[1:]),padding='same'))\n",
        "model.add(layers.Conv2D(32,(3,3), activation='relu',padding='same'))\n",
        "# add MaxPooling2D layer with pool size = 2*2\n",
        "model.add(layers.MaxPooling2D(pool_size=(2, 2)))\n",
        "# add Dropout layer of 0.25\n",
        "model.add(layers.Dropout(0.25))\n",
        "# add flatten layer for convert tensor from (None, 15297, 13, 32) to (None, 6363552)\n",
        "model.add(layers.Flatten())\n",
        "# add fully-connected layer with 50 unit, activation relu and dropout of 0.5\n",
        "model.add(layers.Dense(50, activation='relu',name='Dence'))\n",
        "model.add(layers.Dropout(0.5))\n",
        "# add fully-connected layer for output and activation softmax\n",
        "model.add(layers.Dense(10, activation='softmax',name='output'))\n",
        "\n",
        "\n",
        "# for train model we have to compile model \n",
        "# loss function = mean_squared_error\n",
        "# optimazer = RMSpromp with learning rate 0.001\n",
        "# metric = \n",
        "model.compile(loss='categorical_crossentropy',\n",
        "              optimizer=optimizers.Adam(lr=1e-3),\n",
        "              metrics=['accuracy'])\n",
        "\n",
        "# show summary of model\n",
        "print(model.summary())"
      ],
      "execution_count": 2,
      "outputs": [
        {
          "output_type": "stream",
          "text": [
            "WARNING:tensorflow:From /usr/local/lib/python3.6/dist-packages/keras/backend/tensorflow_backend.py:66: The name tf.get_default_graph is deprecated. Please use tf.compat.v1.get_default_graph instead.\n",
            "\n",
            "WARNING:tensorflow:From /usr/local/lib/python3.6/dist-packages/keras/backend/tensorflow_backend.py:541: The name tf.placeholder is deprecated. Please use tf.compat.v1.placeholder instead.\n",
            "\n",
            "WARNING:tensorflow:From /usr/local/lib/python3.6/dist-packages/keras/backend/tensorflow_backend.py:4432: The name tf.random_uniform is deprecated. Please use tf.random.uniform instead.\n",
            "\n",
            "WARNING:tensorflow:From /usr/local/lib/python3.6/dist-packages/keras/backend/tensorflow_backend.py:4267: The name tf.nn.max_pool is deprecated. Please use tf.nn.max_pool2d instead.\n",
            "\n",
            "WARNING:tensorflow:From /usr/local/lib/python3.6/dist-packages/keras/backend/tensorflow_backend.py:148: The name tf.placeholder_with_default is deprecated. Please use tf.compat.v1.placeholder_with_default instead.\n",
            "\n",
            "WARNING:tensorflow:From /usr/local/lib/python3.6/dist-packages/keras/backend/tensorflow_backend.py:3733: calling dropout (from tensorflow.python.ops.nn_ops) with keep_prob is deprecated and will be removed in a future version.\n",
            "Instructions for updating:\n",
            "Please use `rate` instead of `keep_prob`. Rate should be set to `rate = 1 - keep_prob`.\n",
            "WARNING:tensorflow:From /usr/local/lib/python3.6/dist-packages/keras/optimizers.py:793: The name tf.train.Optimizer is deprecated. Please use tf.compat.v1.train.Optimizer instead.\n",
            "\n",
            "WARNING:tensorflow:From /usr/local/lib/python3.6/dist-packages/keras/backend/tensorflow_backend.py:3576: The name tf.log is deprecated. Please use tf.math.log instead.\n",
            "\n",
            "Model: \"sequential_1\"\n",
            "_________________________________________________________________\n",
            "Layer (type)                 Output Shape              Param #   \n",
            "=================================================================\n",
            "conv2d_1 (Conv2D)            (None, 28, 28, 32)        320       \n",
            "_________________________________________________________________\n",
            "conv2d_2 (Conv2D)            (None, 28, 28, 32)        9248      \n",
            "_________________________________________________________________\n",
            "max_pooling2d_1 (MaxPooling2 (None, 14, 14, 32)        0         \n",
            "_________________________________________________________________\n",
            "dropout_1 (Dropout)          (None, 14, 14, 32)        0         \n",
            "_________________________________________________________________\n",
            "flatten_1 (Flatten)          (None, 6272)              0         \n",
            "_________________________________________________________________\n",
            "Dence (Dense)                (None, 50)                313650    \n",
            "_________________________________________________________________\n",
            "dropout_2 (Dropout)          (None, 50)                0         \n",
            "_________________________________________________________________\n",
            "output (Dense)               (None, 10)                510       \n",
            "=================================================================\n",
            "Total params: 323,728\n",
            "Trainable params: 323,728\n",
            "Non-trainable params: 0\n",
            "_________________________________________________________________\n",
            "None\n"
          ],
          "name": "stdout"
        }
      ]
    },
    {
      "cell_type": "markdown",
      "metadata": {
        "id": "qcc-4VwzP8m1",
        "colab_type": "text"
      },
      "source": [
        "## train model"
      ]
    },
    {
      "cell_type": "code",
      "metadata": {
        "id": "clfPvnuAJJWl",
        "colab_type": "code",
        "outputId": "226a5be7-0a4a-49b6-e4bd-8e6168c1e005",
        "colab": {
          "base_uri": "https://localhost:8080/",
          "height": 1000
        }
      },
      "source": [
        "epochs=20\n",
        "batch_size=128\n",
        "\n",
        "# train model with epochs and batch_size \n",
        "# train data set = mnist digit 5,6,7,8,9\n",
        "# validation_split = 20%\n",
        "history = model.fit(x_train, y_train,\n",
        "          batch_size=batch_size,\n",
        "          epochs=epochs,\n",
        "          validation_split=0.2)\n"
      ],
      "execution_count": 6,
      "outputs": [
        {
          "output_type": "stream",
          "text": [
            "Train on 48000 samples, validate on 12000 samples\n",
            "Epoch 1/50\n",
            "48000/48000 [==============================] - 3s 71us/step - loss: 0.1010 - acc: 0.9689 - val_loss: 0.0460 - val_acc: 0.9863\n",
            "Epoch 2/50\n",
            "48000/48000 [==============================] - 3s 70us/step - loss: 0.0922 - acc: 0.9704 - val_loss: 0.0449 - val_acc: 0.9869\n",
            "Epoch 3/50\n",
            "48000/48000 [==============================] - 3s 70us/step - loss: 0.0849 - acc: 0.9733 - val_loss: 0.0420 - val_acc: 0.9877\n",
            "Epoch 4/50\n",
            "48000/48000 [==============================] - 3s 69us/step - loss: 0.0774 - acc: 0.9745 - val_loss: 0.0424 - val_acc: 0.9878\n",
            "Epoch 5/50\n",
            "48000/48000 [==============================] - 3s 68us/step - loss: 0.0741 - acc: 0.9761 - val_loss: 0.0420 - val_acc: 0.9881\n",
            "Epoch 6/50\n",
            "48000/48000 [==============================] - 3s 69us/step - loss: 0.0749 - acc: 0.9752 - val_loss: 0.0412 - val_acc: 0.9887\n",
            "Epoch 7/50\n",
            "48000/48000 [==============================] - 3s 71us/step - loss: 0.0685 - acc: 0.9775 - val_loss: 0.0455 - val_acc: 0.9877\n",
            "Epoch 8/50\n",
            "48000/48000 [==============================] - 3s 70us/step - loss: 0.0638 - acc: 0.9788 - val_loss: 0.0458 - val_acc: 0.9882\n",
            "Epoch 9/50\n",
            "48000/48000 [==============================] - 3s 71us/step - loss: 0.0597 - acc: 0.9806 - val_loss: 0.0411 - val_acc: 0.9898\n",
            "Epoch 10/50\n",
            "48000/48000 [==============================] - 3s 70us/step - loss: 0.0588 - acc: 0.9807 - val_loss: 0.0423 - val_acc: 0.9898\n",
            "Epoch 11/50\n",
            "48000/48000 [==============================] - 3s 69us/step - loss: 0.0569 - acc: 0.9812 - val_loss: 0.0388 - val_acc: 0.9902\n",
            "Epoch 12/50\n",
            "48000/48000 [==============================] - 3s 70us/step - loss: 0.0561 - acc: 0.9813 - val_loss: 0.0414 - val_acc: 0.9897\n",
            "Epoch 13/50\n",
            "48000/48000 [==============================] - 3s 70us/step - loss: 0.0523 - acc: 0.9827 - val_loss: 0.0432 - val_acc: 0.9892\n",
            "Epoch 14/50\n",
            "48000/48000 [==============================] - 3s 72us/step - loss: 0.0509 - acc: 0.9820 - val_loss: 0.0420 - val_acc: 0.9906\n",
            "Epoch 15/50\n",
            "48000/48000 [==============================] - 3s 71us/step - loss: 0.0491 - acc: 0.9833 - val_loss: 0.0420 - val_acc: 0.9902\n",
            "Epoch 16/50\n",
            "48000/48000 [==============================] - 3s 71us/step - loss: 0.0472 - acc: 0.9843 - val_loss: 0.0413 - val_acc: 0.9903\n",
            "Epoch 17/50\n",
            "48000/48000 [==============================] - 3s 71us/step - loss: 0.0463 - acc: 0.9845 - val_loss: 0.0434 - val_acc: 0.9900\n",
            "Epoch 18/50\n",
            "48000/48000 [==============================] - 3s 71us/step - loss: 0.0463 - acc: 0.9844 - val_loss: 0.0420 - val_acc: 0.9904\n",
            "Epoch 19/50\n",
            "48000/48000 [==============================] - 3s 70us/step - loss: 0.0470 - acc: 0.9839 - val_loss: 0.0426 - val_acc: 0.9902\n",
            "Epoch 20/50\n",
            "48000/48000 [==============================] - 3s 71us/step - loss: 0.0432 - acc: 0.9855 - val_loss: 0.0408 - val_acc: 0.9902\n",
            "Epoch 21/50\n",
            "48000/48000 [==============================] - 3s 71us/step - loss: 0.0410 - acc: 0.9863 - val_loss: 0.0431 - val_acc: 0.9895\n",
            "Epoch 22/50\n",
            "48000/48000 [==============================] - 3s 70us/step - loss: 0.0418 - acc: 0.9858 - val_loss: 0.0498 - val_acc: 0.9904\n",
            "Epoch 23/50\n",
            "48000/48000 [==============================] - 3s 71us/step - loss: 0.0383 - acc: 0.9864 - val_loss: 0.0455 - val_acc: 0.9906\n",
            "Epoch 24/50\n",
            "48000/48000 [==============================] - 3s 70us/step - loss: 0.0393 - acc: 0.9860 - val_loss: 0.0413 - val_acc: 0.9912\n",
            "Epoch 25/50\n",
            "48000/48000 [==============================] - 3s 68us/step - loss: 0.0381 - acc: 0.9871 - val_loss: 0.0441 - val_acc: 0.9905\n",
            "Epoch 26/50\n",
            "48000/48000 [==============================] - 3s 70us/step - loss: 0.0356 - acc: 0.9874 - val_loss: 0.0470 - val_acc: 0.9897\n",
            "Epoch 27/50\n",
            "48000/48000 [==============================] - 3s 71us/step - loss: 0.0378 - acc: 0.9873 - val_loss: 0.0435 - val_acc: 0.9902\n",
            "Epoch 28/50\n",
            "48000/48000 [==============================] - 3s 70us/step - loss: 0.0377 - acc: 0.9867 - val_loss: 0.0458 - val_acc: 0.9909\n",
            "Epoch 29/50\n",
            "48000/48000 [==============================] - 3s 69us/step - loss: 0.0351 - acc: 0.9874 - val_loss: 0.0433 - val_acc: 0.9912\n",
            "Epoch 30/50\n",
            "48000/48000 [==============================] - 3s 69us/step - loss: 0.0350 - acc: 0.9877 - val_loss: 0.0471 - val_acc: 0.9905\n",
            "Epoch 31/50\n",
            "48000/48000 [==============================] - 3s 70us/step - loss: 0.0341 - acc: 0.9883 - val_loss: 0.0423 - val_acc: 0.9907\n",
            "Epoch 32/50\n",
            "48000/48000 [==============================] - 3s 68us/step - loss: 0.0340 - acc: 0.9880 - val_loss: 0.0439 - val_acc: 0.9904\n",
            "Epoch 33/50\n",
            "48000/48000 [==============================] - 3s 68us/step - loss: 0.0334 - acc: 0.9883 - val_loss: 0.0427 - val_acc: 0.9908\n",
            "Epoch 34/50\n",
            "48000/48000 [==============================] - 3s 67us/step - loss: 0.0327 - acc: 0.9886 - val_loss: 0.0437 - val_acc: 0.9908\n",
            "Epoch 35/50\n",
            "48000/48000 [==============================] - 3s 67us/step - loss: 0.0313 - acc: 0.9887 - val_loss: 0.0439 - val_acc: 0.9912\n",
            "Epoch 36/50\n",
            "48000/48000 [==============================] - 3s 68us/step - loss: 0.0335 - acc: 0.9883 - val_loss: 0.0462 - val_acc: 0.9905\n",
            "Epoch 37/50\n",
            "48000/48000 [==============================] - 3s 67us/step - loss: 0.0306 - acc: 0.9886 - val_loss: 0.0461 - val_acc: 0.9907\n",
            "Epoch 38/50\n",
            "48000/48000 [==============================] - 3s 67us/step - loss: 0.0319 - acc: 0.9893 - val_loss: 0.0465 - val_acc: 0.9903\n",
            "Epoch 39/50\n",
            "48000/48000 [==============================] - 3s 67us/step - loss: 0.0303 - acc: 0.9898 - val_loss: 0.0455 - val_acc: 0.9907\n",
            "Epoch 40/50\n",
            "48000/48000 [==============================] - 3s 68us/step - loss: 0.0294 - acc: 0.9895 - val_loss: 0.0467 - val_acc: 0.9905\n",
            "Epoch 41/50\n",
            "48000/48000 [==============================] - 3s 69us/step - loss: 0.0300 - acc: 0.9891 - val_loss: 0.0425 - val_acc: 0.9911\n",
            "Epoch 42/50\n",
            "48000/48000 [==============================] - 3s 70us/step - loss: 0.0285 - acc: 0.9898 - val_loss: 0.0488 - val_acc: 0.9902\n",
            "Epoch 43/50\n",
            "48000/48000 [==============================] - 3s 67us/step - loss: 0.0295 - acc: 0.9896 - val_loss: 0.0440 - val_acc: 0.9913\n",
            "Epoch 44/50\n",
            "48000/48000 [==============================] - 3s 67us/step - loss: 0.0292 - acc: 0.9895 - val_loss: 0.0494 - val_acc: 0.9905\n",
            "Epoch 45/50\n",
            "48000/48000 [==============================] - 3s 70us/step - loss: 0.0292 - acc: 0.9893 - val_loss: 0.0502 - val_acc: 0.9911\n",
            "Epoch 46/50\n",
            "48000/48000 [==============================] - 3s 71us/step - loss: 0.0285 - acc: 0.9900 - val_loss: 0.0458 - val_acc: 0.9912\n",
            "Epoch 47/50\n",
            "48000/48000 [==============================] - 3s 70us/step - loss: 0.0287 - acc: 0.9895 - val_loss: 0.0488 - val_acc: 0.9902\n",
            "Epoch 48/50\n",
            "48000/48000 [==============================] - 3s 71us/step - loss: 0.0265 - acc: 0.9906 - val_loss: 0.0527 - val_acc: 0.9901\n",
            "Epoch 49/50\n",
            "48000/48000 [==============================] - 3s 69us/step - loss: 0.0256 - acc: 0.9910 - val_loss: 0.0495 - val_acc: 0.9901\n",
            "Epoch 50/50\n",
            "48000/48000 [==============================] - 3s 69us/step - loss: 0.0267 - acc: 0.9907 - val_loss: 0.0497 - val_acc: 0.9907\n"
          ],
          "name": "stdout"
        }
      ]
    },
    {
      "cell_type": "code",
      "metadata": {
        "id": "iLQbS_vfJHzs",
        "colab_type": "code",
        "colab": {
          "base_uri": "https://localhost:8080/",
          "height": 573
        },
        "outputId": "1ba3f100-147e-4752-e7cd-88e1bfbad314"
      },
      "source": [
        "# Plot training & validation accuracy values\n",
        "plt.plot(history.history['acc'])\n",
        "plt.plot(history.history['val_acc'])\n",
        "plt.title('Model accuracy')\n",
        "plt.ylabel('Accuracy')\n",
        "plt.xlabel('Epoch')\n",
        "plt.legend(['Train', 'Test'], loc='upper left')\n",
        "plt.show()\n",
        "\n",
        "# Plot training & validation loss values\n",
        "plt.plot(history.history['loss'])\n",
        "plt.plot(history.history['val_loss'])\n",
        "plt.title('Model loss')\n",
        "plt.ylabel('Loss')\n",
        "plt.xlabel('Epoch')\n",
        "plt.legend(['Train', 'Test'], loc='upper left')\n",
        "plt.show()"
      ],
      "execution_count": 7,
      "outputs": [
        {
          "output_type": "display_data",
          "data": {
            "image/png": "[encoded data removed]",
            "text/plain": [
              "<Figure size 432x288 with 1 Axes>"
            ]
          },
          "metadata": {
            "tags": []
          }
        },
        {
          "output_type": "display_data",
          "data": {
            "image/png": "[encoded data removed]",
            "text/plain": [
              "<Figure size 432x288 with 1 Axes>"
            ]
          },
          "metadata": {
            "tags": []
          }
        }
      ]
    },
    {
      "cell_type": "markdown",
      "metadata": {
        "id": "9_rS9y03P_YF",
        "colab_type": "text"
      },
      "source": [
        "## evaluate "
      ]
    },
    {
      "cell_type": "code",
      "metadata": {
        "id": "c-wNXKiwkRif",
        "colab_type": "code",
        "outputId": "bad2afc7-2d76-4dcb-9863-58214337c20e",
        "colab": {
          "base_uri": "https://localhost:8080/",
          "height": 54
        }
      },
      "source": [
        "score = model.evaluate(x_test, y_test, verbose=0)\n",
        "print('Test score:', score[0])\n",
        "print('Test accuracy:', score[1])"
      ],
      "execution_count": 8,
      "outputs": [
        {
          "output_type": "stream",
          "text": [
            "Test score: 0.0404965528846292\n",
            "Test accuracy: 0.9914\n"
          ],
          "name": "stdout"
        }
      ]
    },
    {
      "cell_type": "markdown",
      "metadata": {
        "id": "oXtxvct5dSr2",
        "colab_type": "text"
      },
      "source": [
        "## evaluate\n",
        "calculate\n",
        "\n",
        "  * mse\n",
        "  * confusion_matrix\n",
        "  * f1_score\n",
        "  * recall_score\n",
        "  * precision_score\n",
        "\n",
        "\n"
      ]
    },
    {
      "cell_type": "code",
      "metadata": {
        "id": "Zo7rJ7AwPRv1",
        "colab_type": "code",
        "outputId": "5190506e-2d05-44e7-fab4-bcad0c2869e8",
        "colab": {
          "base_uri": "https://localhost:8080/",
          "height": 348
        }
      },
      "source": [
        "y_pred = model.predict_classes(x_test)\n",
        "\n",
        "y_test_target = np.argmax(y_test,axis=1) # revers one-hot to int\n",
        "\n",
        "mse = metrics.mean_squared_error(y_test_target,y_pred )\n",
        "conf = metrics.confusion_matrix(y_test_target,y_pred)\n",
        "f1_score = metrics.f1_score(y_test_target,y_pred,average=None)\n",
        "recall = metrics.recall_score(y_test_target,y_pred,average=None)\n",
        "precision = metrics.precision_score(y_test_target,y_pred,average=None)\n",
        "print(\"mse = \",mse)\n",
        "print(\"confusion_matrix: \\n\",conf)\n",
        "print(\"f1 score = \",f1_score)\n",
        "print(\"recall = \",recall)\n",
        "print(\"precision = \",precision)"
      ],
      "execution_count": 9,
      "outputs": [
        {
          "output_type": "stream",
          "text": [
            "mse =  0.1589\n",
            "confusion_matrix: \n",
            " [[ 977    0    0    0    0    0    1    0    1    1]\n",
            " [   0 1131    3    0    0    1    0    0    0    0]\n",
            " [   1    3 1024    0    0    0    0    4    0    0]\n",
            " [   0    0    3 1005    0    1    0    0    1    0]\n",
            " [   0    0    0    0  976    0    0    0    2    4]\n",
            " [   1    0    1    6    0  883    1    0    0    0]\n",
            " [   3    3    0    0    1    4  945    0    2    0]\n",
            " [   0    2    8    1    0    0    0 1016    1    0]\n",
            " [   3    0    1    1    0    0    0    3  965    1]\n",
            " [   1    0    0    2    4    3    0    2    5  992]]\n",
            "f1 score =  [0.99389624 0.99472296 0.98841699 0.99259259 0.99439633 0.98991031\n",
            " 0.99212598 0.98977107 0.98923629 0.98854011]\n",
            "recall =  [0.99693878 0.99647577 0.99224806 0.9950495  0.99389002 0.98991031\n",
            " 0.98643006 0.98832685 0.99075975 0.98315164]\n",
            "precision =  [0.99087221 0.99297629 0.98461538 0.99014778 0.99490316 0.98991031\n",
            " 0.99788807 0.99121951 0.9877175  0.99398798]\n"
          ],
          "name": "stdout"
        }
      ]
    }
  ]
}