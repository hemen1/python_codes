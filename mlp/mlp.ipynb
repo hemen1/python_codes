{
  "nbformat": 4,
  "nbformat_minor": 0,
  "metadata": {
    "colab": {
      "name": "mlp.ipynb",
      "provenance": [],
      "collapsed_sections": []
    },
    "kernelspec": {
      "name": "python3",
      "display_name": "Python 3"
    }
  },
  "cells": [
    {
      "cell_type": "markdown",
      "metadata": {
        "id": "xFsuJa1jRQ6F",
        "colab_type": "text"
      },
      "source": [
        "# download and read dataset"
      ]
    },
    {
      "cell_type": "code",
      "metadata": {
        "id": "-PCxIfw2QHec",
        "colab_type": "code",
        "colab": {}
      },
      "source": [
        "import numpy as np\n",
        "import matplotlib.pyplot as plt"
      ],
      "execution_count": 0,
      "outputs": []
    },
    {
      "cell_type": "code",
      "metadata": {
        "id": "Qm8H17c8Qlp9",
        "colab_type": "code",
        "colab": {}
      },
      "source": [
        "from sklearn import datasets\n",
        "from sklearn.model_selection import train_test_split \n",
        "iris = datasets.load_iris()\n",
        "X = iris.data[:, :]  # we only take the first two features.\n",
        "y = iris.target\n",
        "\n",
        "train_data, test_data, train_labels, test_labels = train_test_split(X, y, test_size=0.20, random_state=42)"
      ],
      "execution_count": 0,
      "outputs": []
    },
    {
      "cell_type": "code",
      "metadata": {
        "id": "Q9eVF9tqQY2H",
        "colab_type": "code",
        "outputId": "58117ab5-8695-401a-d960-797eb59b5d09",
        "colab": {
          "base_uri": "https://localhost:8080/",
          "height": 90
        }
      },
      "source": [
        "print(\"Train data: \", train_data.shape)\n",
        "print(\"Train labels: \", train_labels.shape)\n",
        "print(\"Test data: \", test_data.shape)\n",
        "print(\"Test labels: \", test_labels.shape)\n"
      ],
      "execution_count": 3,
      "outputs": [
        {
          "output_type": "stream",
          "text": [
            "Train data:  (120, 4)\n",
            "Train labels:  (120,)\n",
            "Test data:  (30, 4)\n",
            "Test labels:  (30,)\n"
          ],
          "name": "stdout"
        }
      ]
    },
    {
      "cell_type": "code",
      "metadata": {
        "id": "zMPCKAM75sif",
        "colab_type": "code",
        "colab": {}
      },
      "source": [
        "train_labels_onehot = []\n",
        "test_labels_onehot = []\n",
        "for i in train_labels:\n",
        "  train_labels_onehot.append(np.zeros((3)))\n",
        "  train_labels_onehot[-1][i]=1\n",
        "\n",
        "for i in test_labels:\n",
        "  test_labels_onehot.append(np.zeros((3)))\n",
        "  test_labels_onehot[-1][i]=1\n",
        "\n",
        "train_labels_onehot = np.asarray(train_labels_onehot)\n",
        "test_labels_onehot = np.asarray(test_labels_onehot)"
      ],
      "execution_count": 0,
      "outputs": []
    },
    {
      "cell_type": "code",
      "metadata": {
        "id": "UTTMazYNREQd",
        "colab_type": "code",
        "colab": {}
      },
      "source": [
        "def sigmoid(x):\n",
        "  return 1.0 / (1 + np.exp(-x))\n",
        "\n",
        "def sigmoid_d(x):\n",
        "  return np.multiply(sigmoid(x),(1-sigmoid(x)))\n",
        "\n",
        "\n",
        "def next_batch(X, y, batchSize):\n",
        "  idx = np.random.choice(len(X),batchSize,replace=False)\n",
        "  return X[idx], y[idx]\n",
        "\n",
        "def evale_model(X, Y_train, W):\n",
        "  (W1,W2,b1,b2) = W\n",
        "  z1 = np.dot(X,W1)+b1\n",
        "  a1 = sigmoid(z1)\n",
        "  z2 = np.dot(a1,W2)+b2\n",
        "  a2 = sigmoid(z2)\n",
        "  loss = np.power(Y_train-a2,2).mean(0)\n",
        "  loss = np.sum(loss)\n",
        "  return a2,loss\n",
        "\n",
        "def cal_grad(X, Y_train, W):\n",
        "  (W1,W2,b1,b2) = W\n",
        "  z1 = np.dot(X,W1)+b1\n",
        "  a1 = sigmoid(z1)\n",
        "  z2 = np.dot(a1,W2)+b2\n",
        "  a2 = sigmoid(z2)\n",
        "  loss = np.power(Y_train-a2,2).mean(0)\n",
        "  loss = np.sum(loss)\n",
        "  # print(loss)\n",
        "  \n",
        "  grad2=np.multiply((Y_train-a2),sigmoid_d(z2))\n",
        "  grad1=np.multiply(np.dot(grad2,W2.T),sigmoid_d(z1))\n",
        "\n",
        "  gradw = [np.dot(X.T,grad1),np.dot(a1.T,grad2)]\n",
        "  gradb = [grad1,grad2]\n",
        "  \n",
        "  return gradw,gradb,loss\n"
      ],
      "execution_count": 0,
      "outputs": []
    },
    {
      "cell_type": "code",
      "metadata": {
        "id": "MPkCDqnTjLRU",
        "colab_type": "code",
        "colab": {}
      },
      "source": [
        "hidden_n = 3\n",
        "output_shape = 3\n",
        "nInput = 4\n",
        "W1 = np.random.rand(nInput,hidden_n)\n",
        "W2 = np.random.rand(hidden_n,output_shape)\n",
        "b1 = np.zeros(hidden_n)\n",
        "b2 = np.zeros(output_shape)\n",
        "\n",
        "\n",
        "velocity_W1 = np.zeros_like(W1)\n",
        "velocity_W2 = np.zeros_like(W2)\n",
        "velocity_b1 = np.zeros_like(b1)\n",
        "velocity_b2 = np.zeros_like(b2)\n"
      ],
      "execution_count": 0,
      "outputs": []
    },
    {
      "cell_type": "code",
      "metadata": {
        "id": "V5srr21cjmLQ",
        "colab_type": "code",
        "colab": {}
      },
      "source": [
        "iterations = 10\n",
        "datas_len = train_data.shape[0]\n",
        "batchSize = 4\n",
        "\n",
        "loss_train = []\n",
        "loss_test = []\n",
        "\n",
        "alpha = 0.01\n",
        "gamma = 0.9\n",
        "decay  = 0.9\n",
        "for iteration in range(iterations):\n",
        "  temp = []\n",
        "\n",
        "  for batchs in range(int(datas_len/batchSize)):\n",
        "\n",
        "    X, Y_train = next_batch(train_data, train_labels_onehot, batchSize=batchSize)\n",
        "    gradw,gradb,loss_cal = cal_grad(X, Y_train,(W1,W2,b1,b2))\n",
        "\n",
        "    velocity_W1 = gamma * velocity_W1 + alpha * gradw[0]\n",
        "    velocity_W2 = gamma * velocity_W2 + alpha * gradw[1]\n",
        "    velocity_b1 = gamma * velocity_b1 + alpha * gradb[0].mean(0)\n",
        "    velocity_b2 = gamma * velocity_b2 + alpha * gradb[1].mean(0)\n",
        "\n",
        "\n",
        "    W1 = W1 + velocity_W1\n",
        "    W2 = W2 + velocity_W2\n",
        "    b1 = b1 + velocity_b1\n",
        "    b2 = b2 + velocity_b2  \n",
        "\n",
        "    temp.append(loss_cal)\n",
        "  \n",
        "  _,loss_cal = evale_model(test_data, test_labels_onehot, (W1,W2,b1,b2))\n",
        "  loss_test.append(loss_cal)\n",
        "  alpha *= decay\n",
        "  loss_train.append(np.mean(temp))\n"
      ],
      "execution_count": 0,
      "outputs": []
    },
    {
      "cell_type": "code",
      "metadata": {
        "id": "z1vk2NtRjEui",
        "colab_type": "code",
        "outputId": "a17272e9-0a64-4cda-bc9e-1ad5fea4e195",
        "colab": {
          "base_uri": "https://localhost:8080/",
          "height": 295
        }
      },
      "source": [
        "plt.plot(loss_train,'b')\n",
        "plt.plot(loss_test,'r')\n",
        "plt.legend(['train','test'])\n",
        "plt.xlabel('iteration')\n",
        "plt.ylabel('loss')\n",
        "plt.title('train network ' + 'h_n = ' + str(hidden_n)+' batchSize = '+ str(batchSize) + ' without normalize')\n",
        "plt.savefig('./'+'train network ' + 'h_n = ' + str(hidden_n)+' batchSize = '+ str(batchSize) + ' without normalize')\n",
        "plt.show()"
      ],
      "execution_count": 8,
      "outputs": [
        {
          "output_type": "display_data",
          "data": {
            "image/png": "[encoded data removed]",
            "text/plain": [
              "<Figure size 432x288 with 1 Axes>"
            ]
          },
          "metadata": {
            "tags": []
          }
        }
      ]
    },
    {
      "cell_type": "markdown",
      "metadata": {
        "id": "SuhMJP-Zr9OK",
        "colab_type": "text"
      },
      "source": [
        "# normalize  data"
      ]
    },
    {
      "cell_type": "code",
      "metadata": {
        "id": "UY-f4tmir_He",
        "colab_type": "code",
        "outputId": "313c57a4-36b3-45ba-a9cd-0cc61c1f6da6",
        "colab": {
          "base_uri": "https://localhost:8080/",
          "height": 54
        }
      },
      "source": [
        "train_data = train_data/np.max(train_data,axis=0)\n",
        "print(\"Train data reshaped: \", train_data.shape)\n",
        "test_data = test_data/np.max(train_data,axis=0)\n",
        "print(\"Test data reshaped: \", test_data.shape)"
      ],
      "execution_count": 12,
      "outputs": [
        {
          "output_type": "stream",
          "text": [
            "Train data reshaped:  (120, 4)\n",
            "Test data reshaped:  (30, 4)\n"
          ],
          "name": "stdout"
        }
      ]
    },
    {
      "cell_type": "code",
      "metadata": {
        "id": "Mqb3y8V0sFI_",
        "colab_type": "code",
        "colab": {}
      },
      "source": [
        "hidden_n = 3\n",
        "output_shape = 3\n",
        "nInput = 4\n",
        "W1 = np.random.rand(nInput,hidden_n)\n",
        "W2 = np.random.rand(hidden_n,output_shape)\n",
        "b1 = np.zeros(hidden_n)\n",
        "b2 = np.zeros(output_shape)\n",
        "\n",
        "\n",
        "velocity_W1 = np.zeros_like(W1)\n",
        "velocity_W2 = np.zeros_like(W2)\n",
        "velocity_b1 = np.zeros_like(b1)\n",
        "velocity_b2 = np.zeros_like(b2)\n"
      ],
      "execution_count": 0,
      "outputs": []
    },
    {
      "cell_type": "code",
      "metadata": {
        "colab_type": "code",
        "id": "A_G-3utAsJJ6",
        "colab": {}
      },
      "source": [
        "iterations = 10\n",
        "datas_len = train_data.shape[0]\n",
        "batchSize = 2\n",
        "\n",
        "loss_train = []\n",
        "loss_test = []\n",
        "\n",
        "alpha = 0.01\n",
        "gamma = 0.9\n",
        "decay  = 0.9\n",
        "for iteration in range(iterations):\n",
        "  temp = []\n",
        "\n",
        "  for batchs in range(int(datas_len/batchSize)):\n",
        "\n",
        "    X, Y_train = next_batch(train_data, train_labels_onehot, batchSize=batchSize)\n",
        "    gradw,gradb,loss_cal = cal_grad(X, Y_train,(W1,W2,b1,b2))\n",
        "\n",
        "    velocity_W1 = gamma * velocity_W1 + alpha * gradw[0]\n",
        "    velocity_W2 = gamma * velocity_W2 + alpha * gradw[1]\n",
        "    velocity_b1 = gamma * velocity_b1 + alpha * gradb[0].mean(0)\n",
        "    velocity_b2 = gamma * velocity_b2 + alpha * gradb[1].mean(0)\n",
        "\n",
        "\n",
        "    W1 = W1 + velocity_W1\n",
        "    W2 = W2 + velocity_W2\n",
        "    b1 = b1 + velocity_b1\n",
        "    b2 = b2 + velocity_b2  \n",
        "\n",
        "    temp.append(loss_cal)\n",
        "  \n",
        "  _,loss_cal = evale_model(train_data, train_labels_onehot, (W1,W2,b1,b2))\n",
        "  loss_test.append(loss_cal)\n",
        "  alpha *= decay\n",
        "  loss_train.append(np.mean(temp))\n"
      ],
      "execution_count": 0,
      "outputs": []
    },
    {
      "cell_type": "code",
      "metadata": {
        "colab_type": "code",
        "id": "ZovO2bTisJKG",
        "outputId": "2269f22f-f755-4be7-81de-2352c88e4844",
        "colab": {
          "base_uri": "https://localhost:8080/",
          "height": 295
        }
      },
      "source": [
        "plt.plot(loss_train,'b')\n",
        "plt.plot(loss_test,'r')\n",
        "plt.legend(['train','test'])\n",
        "plt.xlabel('iteration')\n",
        "plt.ylabel('loss')\n",
        "plt.title('train network ' + 'h_n = ' + str(hidden_n)+' batchSize = '+ str(batchSize) + ' with normalize')\n",
        "plt.savefig('./'+'train network ' + 'h_n = ' + str(hidden_n)+' batchSize = '+ str(batchSize) + ' with normalize')\n",
        "plt.show()\n"
      ],
      "execution_count": 15,
      "outputs": [
        {
          "output_type": "display_data",
          "data": {
            "image/png": "[encoded data removed]",
            "text/plain": [
              "<Figure size 432x288 with 1 Axes>"
            ]
          },
          "metadata": {
            "tags": []
          }
        }
      ]
    }
  ]
}